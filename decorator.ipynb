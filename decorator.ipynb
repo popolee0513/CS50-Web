{
 "cells": [
  {
   "cell_type": "code",
   "execution_count": 17,
   "metadata": {},
   "outputs": [
    {
     "name": "stdout",
     "output_type": "stream",
     "text": [
      "this is func_print_one\n",
      "this is func_print_two\n",
      "do some thing\n",
      "[花費時間] 0.0009970664978027344\n"
     ]
    }
   ],
   "source": [
    "from functools import wraps\n",
    "import time\n",
    "\n",
    "def timer(func):\n",
    "    @wraps(func)\n",
    "    def wrap():\n",
    "        t_start = time.time()\n",
    "        func()\n",
    "        t_end = time.time()\n",
    "        t_count = t_end - t_start\n",
    "        print(\"[花費時間]\", t_count)\n",
    "\n",
    "    return wrap\n",
    "\n",
    "\n",
    "def func_print_one(func):\n",
    "    @wraps(func)\n",
    "    def wrap():\n",
    "        print(\"this is func_print_one\")\n",
    "        func()\n",
    "\n",
    "    return wrap\n",
    "\n",
    "\n",
    "def func_print_two(func):\n",
    "    @wraps(func)\n",
    "    def wrap():\n",
    "        print('this is func_print_two')\n",
    "        func()\n",
    "\n",
    "    return wrap\n",
    "\n",
    "\n",
    "@timer\n",
    "@func_print_one\n",
    "@func_print_two\n",
    "def dosomething():\n",
    "    print('do some thing')\n",
    "\n",
    "\n",
    "dosomething()"
   ]
  },
  {
   "cell_type": "code",
   "execution_count": 18,
   "metadata": {},
   "outputs": [
    {
     "name": "stdout",
     "output_type": "stream",
     "text": [
      "print current!\n",
      "this is func_print\n",
      "do some thing\n"
     ]
    },
    {
     "data": {
      "text/plain": [
       "'POPO has $13000'"
      ]
     },
     "execution_count": 18,
     "metadata": {},
     "output_type": "execute_result"
    }
   ],
   "source": [
    "def print_func(func):\n",
    "    @wraps(func)\n",
    "    def wrap(*args, **kargs):\n",
    "        print(\"print current!\")\n",
    "        value=func(*args, **kargs)\n",
    "        value = str(value)\n",
    "        value=\"POPO has $\"+value\n",
    "        return value  \n",
    "    return wrap\n",
    "\n",
    "def func_add(func):\n",
    "    @wraps(func)\n",
    "    def wrap(*args, **kargs):\n",
    "        print('this is func_print')\n",
    "        value=func(*args, **kargs)\n",
    "        value+=10000\n",
    "        return value\n",
    "\n",
    "    return wrap\n",
    "\n",
    "@print_func\n",
    "@func_add\n",
    "def dosomething(a, b):\n",
    "    print('do some thing')\n",
    "    return a + b\n",
    "    \n",
    "dosomething(1000, 2000)"
   ]
  },
  {
   "cell_type": "code",
   "execution_count": null,
   "metadata": {},
   "outputs": [],
   "source": []
  }
 ],
 "metadata": {
  "kernelspec": {
   "display_name": "Python 3",
   "language": "python",
   "name": "python3"
  },
  "language_info": {
   "codemirror_mode": {
    "name": "ipython",
    "version": 3
   },
   "file_extension": ".py",
   "mimetype": "text/x-python",
   "name": "python",
   "nbconvert_exporter": "python",
   "pygments_lexer": "ipython3",
   "version": "3.8.3"
  }
 },
 "nbformat": 4,
 "nbformat_minor": 4
}
